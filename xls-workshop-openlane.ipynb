{
  "nbformat": 4,
  "nbformat_minor": 0,
  "metadata": {
    "colab": {
      "name": "xls-workshop-openlane.ipynb",
      "provenance": [],
      "collapsed_sections": [
        "OffI2UIZvSoh"
      ],
      "include_colab_link": true
    },
    "kernelspec": {
      "name": "python3",
      "display_name": "Python 3"
    },
    "language_info": {
      "name": "python"
    }
  },
  "cells": [
    {
      "cell_type": "markdown",
      "metadata": {
        "id": "view-in-github",
        "colab_type": "text"
      },
      "source": [
        "<a href=\"https://colab.research.google.com/github/proppy/silicon-notebooks/blob/main/xls-workshop-openlane.ipynb\" target=\"_parent\"><img src=\"https://colab.research.google.com/assets/colab-badge.svg\" alt=\"Open In Colab\"/></a>"
      ]
    },
    {
      "cell_type": "markdown",
      "source": [
        "# From code to silicon using XLS and OpenLane\n",
        "\n",
        "```\n",
        "Copyright 2021 Google LLC.\n",
        "SPDX-License-Identifier: Apache-2.0\n",
        "```\n",
        "\n",
        "- Design your hardware with code using [XLS](https://google.github.io/xls/) high-level synthesis toolkit.\n",
        "- Run your design thru the [OpenLane](https://github.com/The-OpenROAD-Project/OpenLane/) RTL to GDS toolchain.\n",
        "- Target the open source [SKY130](https://github.com/google/skywater-pdk/) PDK to manufacture your design using Google's sponsored [OpenMPW shuttle](https://developers.google.com/silicon) program."
      ],
      "metadata": {
        "id": "O0_lYRzdoepc"
      }
    },
    {
      "cell_type": "code",
      "execution_count": null,
      "metadata": {
        "id": "Yk-Am1AkjHBs"
      },
      "outputs": [],
      "source": [
        "#@title Install dependencies {display-mode: \"form\"}\n",
        "#@markdown - Click the ▷ button to setup the digital design environment based on [conda-eda](https://github.com/hdl/conda-eda).\n",
        "\n",
        "import os\n",
        "import pathlib\n",
        "import sys\n",
        "\n",
        "conda_prefix_path = pathlib.Path('conda-env')\n",
        "CONDA_PREFIX = str(conda_prefix_path.resolve())\n",
        "PATH = os.environ['PATH']\n",
        "!curl -L -O https://github.com/proppy/conda-eda/releases/download/v0.0-1445-gdbbed53/digital.sky130a-0-Linux-x86_64.sh\n",
        "!bash digital.sky130a-0-Linux-x86_64.sh -b -p {CONDA_PREFIX}\n",
        "!{CONDA_PREFIX}/bin/conda install -y https://anaconda.org/main/graphviz/2.50.0/download/linux-64/graphviz-2.50.0-h1b29801_1.tar.bz2\n",
        "!python -m pip install vcdvcd wavedrom graphviz\n",
        "def2gds_mag = '''gds read $::env(CONDA_PREFIX)/share/pdk/sky130A/libs.ref/sky130_fd_sc_hd/gds/sky130_fd_sc_hd.gds\n",
        "lef read $::env(CONDA_PREFIX)/share/pdk/sky130A/libs.ref/sky130_fd_sc_hd/techlef/sky130_fd_sc_hd__nom.tlef\n",
        "lef read $::env(CONDA_PREFIX)/share/pdk/sky130A/libs.ref/sky130_fd_sc_hd/lef/sky130_fd_sc_hd.lef\n",
        "def read $::env(IN_DEF)\n",
        "gds write $::env(IN_DEF).gds'''\n",
        "with open('def2gds.mag', 'w') as f:\n",
        "  f.write(def2gds_mag)\n",
        "!git clone https://github.com/mbalestrini/GDS2glTF.git\n",
        "!python -m pip install -r GDS2glTF/requirements.txt\n",
        "!git clone https://github.com/proppy/gds_viewer.git\n",
        "import jinja2\n",
        "gds_viewer = jinja2.Environment(loader=jinja2.FileSystemLoader('gds_viewer')).get_template('viewer.html')\n",
        "\n",
        "%env CONDA_PREFIX={CONDA_PREFIX}\n",
        "%env PATH={CONDA_PREFIX}/bin:{PATH}"
      ]
    },
    {
      "cell_type": "markdown",
      "source": [
        "## Design with Code using HLS\n",
        "\n",
        "[XLS](https://google.github.io/xls/) implements a High Level Synthesis (HLS) toolchain which enables the rapid development of hardware IP via \"software style\" methodology.\n",
        "\n",
        "[DSLX](https://google.github.io/xls/dslx_reference/) is a domain specific, dataflow-oriented functional language used to build hardware from flexible, high-level descriptions of functionality.\n",
        "\n",
        "![img](https://google.github.io/xls/images/xls_stack_diagram.png)"
      ],
      "metadata": {
        "id": "ylo5KQ-gvX02"
      }
    },
    {
      "cell_type": "markdown",
      "source": [
        "### DSLX\n",
        "\n",
        ">DSLX mimics Rust, while being an immutable expression-based dataflow DSL with hardware-oriented features; e.g. arbitrary bitwidths, entirely fixed size objects, fully analyzeable call graph, etc. To avoid arbitrary new syntax/semantics choices, the DSL mimics Rust where it is reasonably possible; for example, integer conversions all follow the same semantics as Rust.\n",
        "\n",
        ">Note: There are some unnecessary differences today from Rust syntax due to early experimentation, but they are quickly being removed to converge on Rust syntax.\n",
        "\n",
        "https://google.github.io/xls/dslx_reference/\n",
        "\n",
        "The following cell feature collection of DSLX functions demonstrating:\n",
        "- Basic language constructs and [expressions](https://google.github.io/xls/dslx_reference/#expressions)\n",
        "- [Unit testing](https://google.github.io/xls/dslx_reference/#unit-tests)\n",
        "- [Parametrics functions](https://google.github.io/xls/dslx_reference/#parametric-functions)\n",
        "- [Standard library](https://google.github.io/xls/dslx_std/) and module [imports](https://google.github.io/xls/dslx_reference/#imports).\n"
      ],
      "metadata": {
        "id": "8YD8l8Zo6bKB"
      }
    },
    {
      "cell_type": "code",
      "source": [
        "%%bash -c 'cat > user_module.x; interpreter_main user_module.x'\n",
        "\n",
        "// The first line declares a function (fn) named \"adder1\" (Functions: https://google.github.io/xls/dslx_reference/#functions)\n",
        "// This function accepts two 1-bit unsigned integers (u1) named \"a\" and \"b\", and returns a 2-bit unsigned integer (u2)\n",
        "// Functions without a return value can also be defined by removing the \"-> u2\" part in this example\n",
        "\n",
        "// The second line defines 2-bit unsigned integer (u2) named \"n\" and assigns the sum of \"a\" and \"b\"\n",
        "// \"let\" statement introduces a new variable\n",
        "// \"as\" converts the u1 type \"a\" variable to a u2 type variable (Type casting: https://google.github.io/xls/dslx_reference/#type-casting)\n",
        "\n",
        "// The third line is the return value (Functions return the result of their last computed expression as their return value.)\n",
        "fn adder1(a: u1, b: u1) -> u2 {\n",
        "  let n: u2 = a as u2 + b as u2;\n",
        "  n\n",
        "}\n",
        "\n",
        "\n",
        "// This is a function to turn the \"adder1\" function into 8-bit input, 8-bit output function\n",
        "// Refer to \"Bit Slice Expressions\" section in DSLX reference (Bit Slice Expressions: https://google.github.io/xls/dslx_reference/#bit-slice-expressions)\n",
        "fn user_module(io_in: u8) -> u8 {\n",
        "  adder1(io_in[0:1], io_in[4:5]) as u8\n",
        "}\n",
        "\n",
        "\n",
        "// This is a test function that tests whether the functions work as intended\n",
        "// Refer to \"assert_eq, assert_lt\" section in DSLX reference (assert_eq, assert_lt: https://google.github.io/xls/dslx_reference/#assert_eq-assert_lt)\n",
        "// The underscore (_) in the binary values (\"0b0001_0001\") is just inserted for readablility and can be ignored\n",
        "#[test]\n",
        "fn test() {\n",
        "  assert_eq(adder1(u1:0b1, u1:0b1), u2:0b10);\n",
        "  assert_eq(user_module(u8:0b0001_0001), u8:0b000000_10);\n",
        "}"
      ],
      "metadata": {
        "id": "JKGxScUtoV4E"
      },
      "execution_count": null,
      "outputs": []
    },
    {
      "cell_type": "markdown",
      "source": [
        "## Convert to Hardware IR\n",
        "\n",
        "The [XLS IR](https://google.github.io/xls/ir_semantics/) is a pure dataflow-oriented IR that has the static-single-assignment property, but is specialized for generating circuitry."
      ],
      "metadata": {
        "id": "smMIJhopvqwo"
      }
    },
    {
      "cell_type": "code",
      "source": [
        "!ir_converter_main --top=user_module user_module.x > user_module.ir\n",
        "!opt_main user_module.ir > user_module_opt.ir\n",
        "!cat user_module_opt.ir"
      ],
      "metadata": {
        "id": "YMTh7WB6oxeW"
      },
      "execution_count": null,
      "outputs": []
    },
    {
      "cell_type": "markdown",
      "source": [
        "## Generate RTL\n",
        "\n",
        "XLS codegen outputs (System)Verilog [RTL](https://en.wikipedia.org/wiki/Register-transfer_level) for synthesis and simulation.\n",
        "\n",
        "As a lowest common denominator, [Verilog](https://en.wikipedia.org/wiki/Verilog) output enables XLS generated designs to integrate into existing design flows."
      ],
      "metadata": {
        "id": "i-4cFqIFfE9M"
      }
    },
    {
      "cell_type": "code",
      "source": [
        "!codegen_main --use_system_verilog=false --module_name=user_module --generator=combinational user_module_opt.ir > user_module.v\n",
        "!cat user_module.v"
      ],
      "metadata": {
        "id": "CL1HG1ApfDn9"
      },
      "execution_count": null,
      "outputs": []
    },
    {
      "cell_type": "markdown",
      "source": [
        "## Run the OpenLane flow\n",
        "\n",
        "[OpenLane](https://openlane.readthedocs.io/en/latest/) is an automated [RTL](https://en.wikipedia.org/wiki/Register-transfer_level) to [GDSII](https://en.wikipedia.org/wiki/GDSII) flow based on several components including [OpenROAD](https://theopenroadproject.org/), [Yosys](https://yosyshq.net/yosys/), [Magic](http://www.opencircuitdesign.com/magic/), [Netgen](http://opencircuitdesign.com/netgen/) and custom methodology scripts for design exploration and optimization targeting [open source PDKs](https://github.com/google/open-source-pdks).\n",
        "\n",
        "![img](https://openlane.readthedocs.io/en/latest/_images/flow_v1.png)"
      ],
      "metadata": {
        "id": "ff2G5VJjvz3z"
      }
    },
    {
      "cell_type": "markdown",
      "source": [
        "#### Configuration\n",
        "\n",
        "[Documentation](https://openlane.readthedocs.io/en/latest/reference/configuration.html)"
      ],
      "metadata": {
        "id": "gDWDJZpX_sMW"
      }
    },
    {
      "cell_type": "code",
      "source": [
        "%%writefile config.json\n",
        "{\n",
        "    \"DESIGN_NAME\": \"user_module\",\n",
        "    \"VERILOG_FILES\": \"dir::user_module.v\",\n",
        "    \"CLOCK_TREE_SYNTH\": false,\n",
        "    \"CLOCK_PERIOD\": 10,\n",
        "    \"CLOCK_PORT\": \"clk\",\n",
        "    \"CLOCK_NET\": \"ref::$CLOCK_PORT\",\n",
        "    \"FP_SIZING\": \"absolute\",\n",
        "    \"DIE_AREA\": \"0 0 50 50\",\n",
        "    \"PL_TARGET_DENSITY\": 0.30,\n",
        "    \"FP_PIN_ORDER_CFG\": \"dir::pin_order.cfg\",\n",
        "    \"FP_PDN_RAILS_LAYER\": \"met1\",\n",
        "    \"FP_PDN_LOWER_LAYER\": \"met4\",\n",
        "    \"FP_PDN_UPPER_LAYER\": \"met5\"\n",
        "}"
      ],
      "metadata": {
        "id": "W9mttCesa512"
      },
      "execution_count": null,
      "outputs": []
    },
    {
      "cell_type": "code",
      "source": [
        "%%writefile pin_order.cfg\n",
        "#BUS_SORT\n",
        "\n",
        "#W\n",
        "io_in.*\n",
        "\n",
        "#E\n",
        "out.*"
      ],
      "metadata": {
        "id": "Nt1yYz3Spo6A"
      },
      "execution_count": null,
      "outputs": []
    },
    {
      "cell_type": "markdown",
      "source": [
        "### Synthesis\n",
        "\n",
        "- Input: [RTL](https://en.wikipedia.org/wiki/Register-transfer_level) (Verilog)\n",
        "- Output: Technology mapped [netlist](https://en.wikipedia.org/wiki/Netlist) (Verilog)\n",
        "- Metrics: Cell count and [timing closure](https://en.wikipedia.org/wiki/Timing_closure) estimate\n",
        "\n",
        "[Documentation](https://openlane.readthedocs.io/en/latest/usage/hardening_macros.html#synthesis)"
      ],
      "metadata": {
        "id": "epoiobzjkwuT"
      }
    },
    {
      "cell_type": "code",
      "source": [
        "%env PDK=sky130A\n",
        "!flow.tcl -design . -to synthesis"
      ],
      "metadata": {
        "id": "8gim7pEdozHv"
      },
      "execution_count": null,
      "outputs": []
    },
    {
      "cell_type": "code",
      "source": [
        "#@title Preview {display-mode: \"form\"}\n",
        "\n",
        "import graphviz\n",
        "import pathlib\n",
        "\n",
        "dots = sorted(pathlib.Path('runs').glob('*/tmp/synthesis/post_techmap.dot'))\n",
        "print(dots)\n",
        "dot = graphviz.Source.from_file(dots[-1])\n",
        "dot.engine = 'dot'\n",
        "dot"
      ],
      "metadata": {
        "id": "wUiIfa_9wMRh"
      },
      "execution_count": null,
      "outputs": []
    },
    {
      "cell_type": "markdown",
      "source": [
        "### Floorplan\n",
        "\n",
        "- Input: Technology mapped [netlist](https://en.wikipedia.org/wiki/Netlist) (Verilog)\n",
        "- Output: Die Physical layout with PDN and I/O pins ([DEF](https://en.wikipedia.org/wiki/Design_Exchange_Format))\n",
        "- Metrics: Area\n",
        "\n",
        "[Documentation](https://openlane.readthedocs.io/en/latest/usage/hardening_macros.html#floorplan)"
      ],
      "metadata": {
        "id": "PaKJ6dr3k1yT"
      }
    },
    {
      "cell_type": "code",
      "source": [
        "%env PDK=sky130A\n",
        "!flow.tcl -design . -to floorplan"
      ],
      "metadata": {
        "id": "5hzngAqWcNlW"
      },
      "execution_count": null,
      "outputs": []
    },
    {
      "cell_type": "code",
      "source": [
        "#@title Preview {display-mode: \"form\"}\n",
        "\n",
        "import pathlib\n",
        "\n",
        "STEP='floorplan'\n",
        "in_def = sorted(pathlib.Path('runs').glob(f'*/results/{STEP}/*.def'))[-1].resolve()\n",
        "!IN_DEF={in_def} magic -dnull -noconsole -rcfile {CONDA_PREFIX}/share/pdk/sky130A/libs.tech/magic/sky130A.magicrc < def2gds.mag\n",
        "import sys\n",
        "!{sys.executable} GDS2glTF/gds2gltf.py {in_def}.gds | tee gds2gltf.log\n",
        "import IPython.display\n",
        "IPython.display.clear_output(wait=True)\n",
        "with open(f'{in_def}.gds.gltf') as f:\n",
        "  gltf_data=f.read()\n",
        "  output = gds_viewer.render(gltf_data=gltf_data)\n",
        "IPython.display.HTML(output)"
      ],
      "metadata": {
        "id": "QhO6v-1N7l2u"
      },
      "execution_count": null,
      "outputs": []
    },
    {
      "cell_type": "markdown",
      "source": [
        "### Placement\n",
        "\n",
        "- Input: Technology mapped [netlist](https://en.wikipedia.org/wiki/Netlist) (Verilog), Die Physical layout with PDN and I/O pins ([DEF](https://en.wikipedia.org/wiki/Design_Exchange_Format))\n",
        "- Output: Physical layout with component cells placed ([DEF](https://en.wikipedia.org/wiki/Design_Exchange_Format))\n",
        "- Metrics: Area, cell density, [timing closure](https://en.wikipedia.org/wiki/Timing_closure) estimate\n",
        "\n",
        "[Documentation](https://openlane.readthedocs.io/en/latest/usage/hardening_macros.html#placement)"
      ],
      "metadata": {
        "id": "mOxtgJhfhO_G"
      }
    },
    {
      "cell_type": "code",
      "source": [
        "%env PDK=sky130A\n",
        "!flow.tcl -design . -to placement"
      ],
      "metadata": {
        "id": "JJu8kAI_hO_O"
      },
      "execution_count": null,
      "outputs": []
    },
    {
      "cell_type": "code",
      "source": [
        "#@title Preview {display-mode: \"form\"}\n",
        "\n",
        "import pathlib\n",
        "\n",
        "STEP='placement'\n",
        "in_def = sorted(pathlib.Path('runs').glob(f'*/results/{STEP}/*.def'))[-1].resolve()\n",
        "!IN_DEF={in_def} magic -dnull -noconsole -rcfile {CONDA_PREFIX}/share/pdk/sky130A/libs.tech/magic/sky130A.magicrc < def2gds.mag\n",
        "!/usr/bin/python3 GDS2glTF/gds2gltf.py {in_def}.gds | tee gds2gltf.log\n",
        "import IPython.display\n",
        "IPython.display.clear_output(wait=True)\n",
        "with open(f'{in_def}.gds.gltf') as f:\n",
        "  gltf_data=f.read()\n",
        "  output = gds_viewer.render(gltf_data=gltf_data)\n",
        "IPython.display.HTML(output)"
      ],
      "metadata": {
        "id": "oD8Ekk4thO_P"
      },
      "execution_count": null,
      "outputs": []
    },
    {
      "cell_type": "markdown",
      "source": [
        "### Routing\n",
        "\n",
        "- Input: Technology mapped [netlist](https://en.wikipedia.org/wiki/Netlist) (Verilog), Physical layout with component cells placed ([DEF](https://en.wikipedia.org/wiki/Design_Exchange_Format))\n",
        "- Output: Physical layout with component cells fully-connected ([DEF](https://en.wikipedia.org/wiki/Design_Exchange_Format))\n",
        "- Metrics: Routing congestion, [timing closure](https://en.wikipedia.org/wiki/Timing_closure) estimate\n",
        "\n",
        "[Documentation](https://openlane.readthedocs.io/en/latest/usage/hardening_macros.html#routing)"
      ],
      "metadata": {
        "id": "9BqKTSVQJIjr"
      }
    },
    {
      "cell_type": "code",
      "source": [
        "%env PDK=sky130A\n",
        "!flow.tcl -design . -to routing"
      ],
      "metadata": {
        "id": "1EeLNXWXKiNM"
      },
      "execution_count": null,
      "outputs": []
    },
    {
      "cell_type": "code",
      "source": [
        "#@title Preview {display-mode: \"form\"}\n",
        "\n",
        "import pathlib\n",
        "\n",
        "STEP='routing'\n",
        "in_def = sorted(pathlib.Path('runs').glob(f'*/results/{STEP}/*.def'))[-1].resolve()\n",
        "!IN_DEF={in_def} magic -dnull -noconsole -rcfile {CONDA_PREFIX}/share/pdk/sky130A/libs.tech/magic/sky130A.magicrc < def2gds.mag\n",
        "import sys\n",
        "!{sys.executable} GDS2glTF/gds2gltf.py {in_def}.gds | tee gds2gltf.log\n",
        "import IPython.display\n",
        "IPython.display.clear_output(wait=True)\n",
        "with open(f'{in_def}.gds.gltf') as f:\n",
        "  gltf_data=f.read()\n",
        "  output = gds_viewer.render(gltf_data=gltf_data)\n",
        "IPython.display.HTML(output)"
      ],
      "metadata": {
        "id": "4yNkdUfpcjph"
      },
      "execution_count": null,
      "outputs": []
    },
    {
      "cell_type": "markdown",
      "source": [
        "### Sign off\n",
        "\n",
        "- Input: Physical layout with component cells fully-connected ([DEF](https://en.wikipedia.org/wiki/Design_Exchange_Format))\n",
        "- Output: Physical layout validated against foundry [DRC rules](https://en.wikipedia.org/wiki/Design_rule_checking), ready for manufacturing ([GDSII](https://en.wikipedia.org/wiki/GDSII))\n",
        "- Metrics: DRC errors, [parasitics](https://en.wikipedia.org/wiki/Standard_Parasitic_Exchange_Format) and [timing closure](https://en.wikipedia.org/wiki/Timing_closure) estimate\n",
        "\n",
        "[Documentation](https://openlane.readthedocs.io/en/latest/usage/hardening_macros.html#final-reports-and-checks)"
      ],
      "metadata": {
        "id": "a1T20TOGzjQ0"
      }
    },
    {
      "cell_type": "code",
      "source": [
        "%env PDK=sky130A\n",
        "!flow.tcl -design ."
      ],
      "metadata": {
        "id": "ZUq1xBKpeYJm"
      },
      "execution_count": null,
      "outputs": []
    },
    {
      "cell_type": "code",
      "source": [
        "#@title Preview {display-mode: \"form\"}\n",
        "\n",
        "import pathlib\n",
        "\n",
        "gds = sorted(pathlib.Path('runs').glob(f'*/results/final/gds/*.gds'))[-1].resolve()\n",
        "import sys\n",
        "!{sys.executable} GDS2glTF/gds2gltf.py {gds}.gds | tee gds2gltf.log\n",
        "import IPython.display\n",
        "IPython.display.clear_output(wait=True)\n",
        "with open(f'{gds}.gltf') as f:\n",
        "  gltf_data=f.read()\n",
        "  output = gds_viewer.render(gltf_data=gltf_data)\n",
        "IPython.display.HTML(output)"
      ],
      "metadata": {
        "id": "TKcEZXM1KiNM"
      },
      "execution_count": null,
      "outputs": []
    },
    {
      "cell_type": "code",
      "source": [
        "#@title Metrics {display-mode: \"form\"}\n",
        "#@markdown [Documentation](https://openlane.readthedocs.io/en/latest/reference/datapoint_definitions.html)\n",
        "import pathlib\n",
        "import pandas as pd\n",
        "\n",
        "pd.options.display.max_rows = None\n",
        "csv = sorted(pathlib.Path('runs').glob('*/reports/metrics.csv'))\n",
        "df = pd.read_csv(csv[-1])\n",
        "df.transpose()"
      ],
      "metadata": {
        "id": "ku12Wqw_znRp"
      },
      "execution_count": null,
      "outputs": []
    },
    {
      "cell_type": "markdown",
      "source": [
        "# Assignments"
      ],
      "metadata": {
        "id": "zEET8HjMKcbj"
      }
    },
    {
      "cell_type": "markdown",
      "source": [
        "## Multiplier"
      ],
      "metadata": {
        "id": "ac7FgU_LKffK"
      }
    },
    {
      "cell_type": "markdown",
      "source": [
        "### ⌨ DSLX\n",
        "\n",
        "1. Update the `mul4` function below to use the [DSLX standard library](https://google.github.io/xls/dslx_std/) functions to implement a 4-bit multiplier (don't forget the `std::` prefix).\n",
        "1. Generate the verilog for the design.\n",
        "1. Run the OpenLane flow up until synthesis.\n",
        "1. Observe the change in the complexity of the graph.\n",
        "1. Compare to the results w/ the previous adder design."
      ],
      "metadata": {
        "id": "I0OFABt0L_Or"
      }
    },
    {
      "cell_type": "code",
      "source": [
        "%%bash -c 'cat > user_module.x; interpreter_main user_module.x'\n",
        "import std\n",
        "\n",
        "fn mul4(a: u4, b: u4) -> u8 {\n",
        "  u8:0 // TODO(you): implement mul4\n",
        "}\n",
        "\n",
        "fn user_module(io_in: u8) -> u8 {\n",
        "  mul4(io_in[0:4], io_in[4:8]) as u8\n",
        "}\n",
        "\n",
        "#[test]\n",
        "fn test() {\n",
        "  let _ = assert_eq(mul4(u4:8, u4:8), u8:64);\n",
        "  let _ = assert_eq(user_module(u8:0b1000_1000), u8:0b0100_0000);\n",
        "  _\n",
        "}"
      ],
      "metadata": {
        "id": "Lpg06y1aKr7F"
      },
      "execution_count": null,
      "outputs": []
    },
    {
      "cell_type": "code",
      "source": [
        "!ir_converter_main --top=user_module user_module.x > user_module.ir\n",
        "!opt_main user_module.ir > user_module_opt.ir\n",
        "!codegen_main --use_system_verilog=false --module_name=user_module --generator=combinational user_module_opt.ir > user_module.v\n",
        "!cat user_module.v"
      ],
      "metadata": {
        "id": "u_86JuvgOwcu"
      },
      "execution_count": null,
      "outputs": []
    },
    {
      "cell_type": "code",
      "source": [
        "%env PDK=sky130A\n",
        "!flow.tcl -design . -to synthesis"
      ],
      "metadata": {
        "id": "e0rZkCcaRhK3"
      },
      "execution_count": null,
      "outputs": []
    },
    {
      "cell_type": "code",
      "source": [
        "#@title Preview {display-mode: \"form\"}\n",
        "\n",
        "import graphviz\n",
        "import pathlib\n",
        "\n",
        "dots = sorted(pathlib.Path('runs').glob('*/tmp/synthesis/post_techmap.dot'))\n",
        "dot = graphviz.Source.from_file(dots[-1])\n",
        "dot.engine = 'dot'\n",
        "dot"
      ],
      "metadata": {
        "id": "stD3P27ARpmm"
      },
      "execution_count": null,
      "outputs": []
    },
    {
      "cell_type": "markdown",
      "source": [
        "### 🛠️ OpenLane\n",
        "\n",
        "1. Run the complete OpenLane flow.\n",
        "1. Fix errors by tweaking `DIE_AREA` or `PL_TARGET_DENSITY` [configuration variables](https://openlane.readthedocs.io/en/latest/reference/configuration.html).\n",
        "1. Observe changes in the [metrics](https://openlane.readthedocs.io/en/latest/reference/datapoint_definitions.html) (`Total_Physical_Cells`, `wire_length`).\n",
        "1. Observe changes in the layout preview.\n",
        "1. Compare to the results w/ the previous adder design."
      ],
      "metadata": {
        "id": "FPyEu-juOCUD"
      }
    },
    {
      "cell_type": "code",
      "source": [
        "%%writefile config.json\n",
        "{\n",
        "    \"DESIGN_NAME\": \"user_module\",\n",
        "    \"VERILOG_FILES\": \"dir::user_module.v\",\n",
        "    \"CLOCK_TREE_SYNTH\": false,\n",
        "    \"CLOCK_PERIOD\": 10,\n",
        "    \"CLOCK_PORT\": \"clk\",\n",
        "    \"CLOCK_NET\": \"ref::$CLOCK_PORT\",\n",
        "    \"FP_SIZING\": \"absolute\",\n",
        "    \"DIE_AREA\": \"0 0 50 50\",\n",
        "    \"PL_TARGET_DENSITY\": 0.30,\n",
        "    \"FP_PIN_ORDER_CFG\": \"dir::pin_order.cfg\",\n",
        "    \"FP_PDN_RAILS_LAYER\": \"met1\",\n",
        "    \"FP_PDN_LOWER_LAYER\": \"met4\",\n",
        "    \"FP_PDN_UPPER_LAYER\": \"met5\"\n",
        "}"
      ],
      "metadata": {
        "id": "X2DWoHCkNcdV"
      },
      "execution_count": null,
      "outputs": []
    },
    {
      "cell_type": "code",
      "source": [
        "%env PDK=sky130A\n",
        "!flow.tcl -design ."
      ],
      "metadata": {
        "id": "iVKvUGQ4QPYb"
      },
      "execution_count": null,
      "outputs": []
    },
    {
      "cell_type": "code",
      "source": [
        "#@title Metrics {display-mode: \"form\"}\n",
        "import pathlib\n",
        "import pandas as pd\n",
        "\n",
        "pd.options.display.max_rows = None\n",
        "csv = sorted(pathlib.Path('runs').glob('*/reports/metrics.csv'))\n",
        "df = pd.read_csv(csv[-1])\n",
        "df.transpose()"
      ],
      "metadata": {
        "id": "22bEoYqTtj8O"
      },
      "execution_count": null,
      "outputs": []
    },
    {
      "cell_type": "code",
      "source": [
        "#@title Preview {display-mode: \"form\"}\n",
        "\n",
        "import pathlib\n",
        "\n",
        "gds = sorted(pathlib.Path('runs').glob(f'*/results/final/gds/*.gds'))[-1].resolve()\n",
        "import sys\n",
        "!{sys.executable} GDS2glTF/gds2gltf.py {gds}.gds | tee gds2gltf.log\n",
        "import IPython.display\n",
        "IPython.display.clear_output(wait=True)\n",
        "with open(f'{gds}.gltf') as f:\n",
        "  gltf_data=f.read()\n",
        "  output = gds_viewer.render(gltf_data=gltf_data)\n",
        "IPython.display.HTML(output)"
      ],
      "metadata": {
        "id": "BYPHnimkuEXU"
      },
      "execution_count": null,
      "outputs": []
    },
    {
      "cell_type": "markdown",
      "source": [
        "## Pipeline"
      ],
      "metadata": {
        "id": "1eCp-QKdsLXq"
      }
    },
    {
      "cell_type": "markdown",
      "source": [
        "### ⌨ DSLX: Multiplier/Adder\n",
        "\n",
        "1. Update the `muladd` to implement a combined 2-bit multiplier and 4-bit adder."
      ],
      "metadata": {
        "id": "uiGoCZlUlWGB"
      }
    },
    {
      "cell_type": "code",
      "source": [
        "%%bash -c 'cat > user_module.x; interpreter_main user_module.x'\n",
        "import std\n",
        "\n",
        "fn muladd(a: u2, b: u2, c: u4) -> u8 {\n",
        "  u8:0 // TODO(you): implement muladd\n",
        "}\n",
        "\n",
        "fn user_module(io_in: u8) -> u8 {\n",
        "  muladd(io_in[0:2], io_in[2:4], io_in[4:8]) as u8\n",
        "}\n",
        "\n",
        "#[test]\n",
        "fn test() {\n",
        "  let _ = assert_eq(muladd(u2:3, u2:3, u4:15), u8:24);\n",
        "  let _ = assert_eq(user_module(u8:0b1111_11_11), u8:24);\n",
        "  _\n",
        "}"
      ],
      "metadata": {
        "id": "J5bN5tLDlVhY"
      },
      "execution_count": null,
      "outputs": []
    },
    {
      "cell_type": "markdown",
      "source": [
        "### Pipeline stages\n",
        "\n",
        "1. Find the right combination of XLS [codegen pipelining options](https://google.github.io/xls/codegen_options/#pipelining-and-scheduling-options) to [schedule](https://google.github.io/xls/scheduling/) the multiplier adder across multiple pipeline stages.\n",
        "1. Observe the generated verilog"
      ],
      "metadata": {
        "id": "oaM-cRpWxMxo"
      }
    },
    {
      "cell_type": "code",
      "source": [
        "pipeline_stages = 0 # TODO(you): update with one stage per operation\n",
        "clock_period_ps = 0 # TODO(you): raise value until scheduling succeed\n",
        "!ir_converter_main --top=user_module user_module.x > user_module.ir\n",
        "!opt_main user_module.ir > user_module_opt.ir\n",
        "!codegen_main --pipeline_stages={pipeline_stages} --clock_period_ps={clock_period_ps} --delay_model=sky130 --use_system_verilog=false --module_name=user_module user_module_opt.ir > user_module.v\n",
        "!cat user_module.v"
      ],
      "metadata": {
        "id": "2ZNQm_VQsKhC"
      },
      "execution_count": null,
      "outputs": []
    },
    {
      "cell_type": "markdown",
      "source": [
        "### Simulation.\n",
        "\n",
        "1. Update the test bench to verify the behavior of the generated verilog.\n",
        "1. Observe the [digital timing diagram](https://en.wikipedia.org/wiki/Digital_timing_diagram) to see how values flow thru the pipeling stages"
      ],
      "metadata": {
        "id": "MaB4bJsPxgjk"
      }
    },
    {
      "cell_type": "code",
      "source": [
        "%%bash -c 'cat > muladd_tb.v; iverilog muladd_tb.v user_module.v && vvp a.out'\n",
        "\n",
        "module top;\n",
        "  reg clk;\n",
        "  reg reset;\n",
        "  reg[7:0] io_in;\n",
        "  wire[7:0] out;\n",
        "\n",
        "  user_module user_module_tb(clk, io_in, out);\n",
        "\n",
        "  always #1 clk = !clk;\n",
        "\n",
        "  initial begin\n",
        "    $dumpfile (\"user_module.vcd\");\n",
        "    $dumpvars (0, user_module_tb);\n",
        "    clk <= 1'b0;\n",
        "    io_in <= 8'b01010101; // TODO(you): update with test input\n",
        "    #10 $finish;\n",
        "  end\n",
        "endmodule"
      ],
      "metadata": {
        "id": "UFrDgE3Ahy3Y"
      },
      "execution_count": null,
      "outputs": []
    },
    {
      "cell_type": "code",
      "source": [
        "#@title Preview {display-mode: \"form\"}\n",
        "\n",
        "import wavedrom\n",
        "import vcdvcd\n",
        "import json\n",
        "\n",
        "def signals_to_wave(filename, top, signals):\n",
        "  vcd = vcdvcd.VCDVCD(filename)\n",
        "  clk_tv = vcd[f'{top}.clk'].tv\n",
        "  ticks = len(clk_tv)\n",
        "  yield {'name': 'clk', 'wave': ''.join([d for t, d in clk_tv])}\n",
        "  for s in signals:\n",
        "    for ss in vcd.signals:\n",
        "      if 'comb' in ss:\n",
        "        continue\n",
        "      if s in ss:\n",
        "        wave = ['.'] * ticks\n",
        "        data = []\n",
        "        for t, d in vcd[ss].tv:\n",
        "          if 'x' in d:\n",
        "            wave[t] = 'x'\n",
        "          else:\n",
        "            wave[t] = '='\n",
        "            data.append(d)\n",
        "        yield {'name': ss.replace(f'{top}.', ''), 'wave': ''.join(wave), 'data': ' '.join(data)}\n",
        "\n",
        "drom = {\n",
        "    'signal': list(signals_to_wave('user_module.vcd', top='top.user_module_tb', signals=['io_in', 'umul', 'add', 'concat', 'out']))\n",
        "}\n",
        "svg = wavedrom.render(json.dumps(drom))\n",
        "display(svg)"
      ],
      "metadata": {
        "id": "b-ftZx5aErWW"
      },
      "execution_count": null,
      "outputs": []
    },
    {
      "cell_type": "markdown",
      "source": [
        "### Static timing analysis\n",
        "\n",
        "1. Run the OpenLane flow up until [Clock Tree Synthesis](https://en.wikipedia.org/wiki/Physical_design_(electronics)#Clock_tree_synthesis).\n",
        "1. Fix errors by tweaking the `CLOCK_PERIOD` [configuration variable](https://openlane.readthedocs.io/en/latest/reference/configuration.html) until [static timing analysis](https://en.wikipedia.org/wiki/Static_timing_analysis) logs shows positive [slack](https://en.wikipedia.org/wiki/Static_timing_analysis#Definitions) `MET` (not `VIOLATED`) for all [corners](https://en.wikipedia.org/wiki/Static_timing_analysis#Corners_and_STA).\n",
        "1. Re-harden the design.\n",
        "1. Observe the impact of pipeling on the layout."
      ],
      "metadata": {
        "id": "sXM7WwzDxC3S"
      }
    },
    {
      "cell_type": "code",
      "source": [
        "%%writefile config.json\n",
        "{\n",
        "    \"DESIGN_NAME\": \"user_module\",\n",
        "    \"VERILOG_FILES\": \"dir::user_module.v\",\n",
        "    \"CLOCK_TREE_SYNTH\": true,\n",
        "    \"CLOCK_PERIOD\": 1,\n",
        "    \"CLOCK_PORT\": \"clk\",\n",
        "    \"CLOCK_NET\": \"ref::$CLOCK_PORT\",\n",
        "    \"FP_SIZING\": \"absolute\",\n",
        "    \"DIE_AREA\": \"0 0 150 150\",\n",
        "    \"PL_TARGET_DENSITY\": 0.70,\n",
        "    \"FP_PIN_ORDER_CFG\": \"dir::pin_order.cfg\",\n",
        "    \"FP_PDN_RAILS_LAYER\": \"met1\",\n",
        "    \"FP_PDN_LOWER_LAYER\": \"met4\",\n",
        "    \"FP_PDN_UPPER_LAYER\": \"met5\"\n",
        "}"
      ],
      "metadata": {
        "id": "PHFpwhOvs6uQ"
      },
      "execution_count": null,
      "outputs": []
    },
    {
      "cell_type": "code",
      "source": [
        "%%writefile pin_order.cfg\n",
        "#BUS_SORT\n",
        "\n",
        "#W\n",
        "io_in\\[0\\]\n",
        "io_in\\[1\\]\n",
        "io_in\\[2\\]\n",
        "io_in\\[3\\]\n",
        "clk\n",
        "io_in\\[4\\]\n",
        "io_in\\[5\\]\n",
        "io_in\\[6\\]\n",
        "io_in\\[7\\]\n",
        "\n",
        "#E\n",
        "out.*"
      ],
      "metadata": {
        "id": "em-NHkbxt1ky"
      },
      "execution_count": null,
      "outputs": []
    },
    {
      "cell_type": "code",
      "source": [
        "%env PDK=sky130A\n",
        "!flow.tcl -design . -verbose 10 -to cts"
      ],
      "metadata": {
        "id": "UIqEvPRHtdCQ"
      },
      "execution_count": null,
      "outputs": []
    },
    {
      "cell_type": "code",
      "source": [
        "%env PDK=sky130A\n",
        "!flow.tcl -design ."
      ],
      "metadata": {
        "id": "0JipsFZNyxPM"
      },
      "execution_count": null,
      "outputs": []
    },
    {
      "cell_type": "code",
      "source": [
        "#@title Metrics {display-mode: \"form\"}\n",
        "import pathlib\n",
        "import pandas as pd\n",
        "\n",
        "pd.options.display.max_rows = None\n",
        "csv = sorted(pathlib.Path('runs').glob('*/reports/metrics.csv'))\n",
        "df = pd.read_csv(csv[-1])\n",
        "df.transpose()"
      ],
      "metadata": {
        "id": "46rCDqsWYcfq"
      },
      "execution_count": null,
      "outputs": []
    },
    {
      "cell_type": "code",
      "source": [
        "#@title Preview {display-mode: \"form\"}\n",
        "\n",
        "import pathlib\n",
        "\n",
        "gds = sorted(pathlib.Path('runs').glob(f'*/results/final/gds/*.gds'))[-1].resolve()\n",
        "import sys\n",
        "!{sys.executable} GDS2glTF/gds2gltf.py {gds}.gds | tee gds2gltf.log\n",
        "import IPython.display\n",
        "IPython.display.clear_output(wait=True)\n",
        "with open(f'{gds}.gltf') as f:\n",
        "  gltf_data=f.read()\n",
        "  output = gds_viewer.render(gltf_data=gltf_data)\n",
        "IPython.display.HTML(output)"
      ],
      "metadata": {
        "id": "duJj22dgYcfq"
      },
      "execution_count": null,
      "outputs": []
    },
    {
      "cell_type": "markdown",
      "source": [
        "## DIY Zone\n",
        "\n",
        "1. Use the remaining to work on your own design.\n",
        "1. Re-use functions from XLS [stdlib](https://github.com/google/xls/tree/main/xls/dslx/stdlib), [examples](https://github.com/google/xls/tree/main/xls/examples), [modules](https://github.com/google/xls/tree/main/xls/examples) or [third_party](https://github.com/google/xls/tree/main/third_party)."
      ],
      "metadata": {
        "id": "4oOsNfozVIDo"
      }
    },
    {
      "cell_type": "code",
      "source": [
        "%%bash -c 'cat > user_module.x; interpreter_main user_module.x'\n",
        "\n",
        "fn user_module(io_in: u8) -> u8 {\n",
        "  u8:0\n",
        "}\n",
        "\n",
        "#[test]\n",
        "fn test() {\n",
        "  let _ = assert_eq(user_module(u8:0), u8:0);\n",
        "  _\n",
        "}"
      ],
      "metadata": {
        "id": "PTyKSn92WZCW"
      },
      "execution_count": null,
      "outputs": []
    },
    {
      "cell_type": "code",
      "source": [
        "!ir_converter_main --top=user_module user_module.x > user_module.ir\n",
        "!opt_main user_module.ir > user_module_opt.ir\n",
        "!codegen_main --use_system_verilog=false --module_name=user_module --generator=combinational user_module_opt.ir > user_module.v\n",
        "!cat user_module.v"
      ],
      "metadata": {
        "id": "eIGKUPA9Wsch"
      },
      "execution_count": null,
      "outputs": []
    },
    {
      "cell_type": "code",
      "source": [
        "%%writefile config.json\n",
        "{\n",
        "    \"DESIGN_NAME\": \"user_module\",\n",
        "    \"VERILOG_FILES\": \"dir::user_module.v\",\n",
        "    \"CLOCK_TREE_SYNTH\": true,\n",
        "    \"CLOCK_PERIOD\": 1000,\n",
        "    \"CLOCK_PORT\": \"clk\",\n",
        "    \"CLOCK_NET\": \"ref::$CLOCK_PORT\",\n",
        "    \"FP_SIZING\": \"absolute\",\n",
        "    \"DIE_AREA\": \"0 0 150 150\",\n",
        "    \"PL_TARGET_DENSITY\": 0.70,\n",
        "    \"FP_PIN_ORDER_CFG\": \"dir::pin_order.cfg\",\n",
        "    \"FP_PDN_RAILS_LAYER\": \"met1\",\n",
        "    \"FP_PDN_LOWER_LAYER\": \"met4\",\n",
        "    \"FP_PDN_UPPER_LAYER\": \"met5\"\n",
        "}"
      ],
      "metadata": {
        "id": "tlVC_ZEN_AyR"
      },
      "execution_count": null,
      "outputs": []
    },
    {
      "cell_type": "code",
      "source": [
        "%env PDK=sky130A\n",
        "!flow.tcl -design ."
      ],
      "metadata": {
        "id": "N0XmREpoWPNP"
      },
      "execution_count": null,
      "outputs": []
    },
    {
      "cell_type": "code",
      "source": [
        "#@title Metrics {display-mode: \"form\"}\n",
        "import pathlib\n",
        "import pandas as pd\n",
        "\n",
        "pd.options.display.max_rows = None\n",
        "csv = sorted(pathlib.Path('runs').glob('*/reports/metrics.csv'))\n",
        "df = pd.read_csv(csv[-1])\n",
        "df.transpose()"
      ],
      "metadata": {
        "id": "kxTGtsHXWPNc"
      },
      "execution_count": null,
      "outputs": []
    },
    {
      "cell_type": "code",
      "source": [
        "#@title Preview {display-mode: \"form\"}\n",
        "\n",
        "import pathlib\n",
        "\n",
        "gds = sorted(pathlib.Path('runs').glob(f'*/results/final/gds/*.gds'))[-1].resolve()\n",
        "import sys\n",
        "!{sys.executable} GDS2glTF/gds2gltf.py {gds}.gds | tee gds2gltf.log\n",
        "import IPython.display\n",
        "IPython.display.clear_output(wait=True)\n",
        "with open(f'{gds}.gltf') as f:\n",
        "  gltf_data=f.read()\n",
        "  output = gds_viewer.render(gltf_data=gltf_data)\n",
        "IPython.display.HTML(output)"
      ],
      "metadata": {
        "id": "AxX138XzWPNc"
      },
      "execution_count": null,
      "outputs": []
    },
    {
      "cell_type": "markdown",
      "source": [
        "# Tapeout opportunities\n",
        "\n",
        "## TinyTapeout\n",
        "\n",
        "![tinytapeout](https://tinytapeout.com/ttlogo.png)\n",
        "\n",
        "- integrate your generated verilog with [`tt04-submission-template`](https://github.com/TinyTapeout/tt04-submission-template)\n",
        "- and submit your project to the next [TinyTapeout](https://tinytapeout.com/)\n",
        "\n",
        "## OpenMPW\n",
        "\n",
        "![caravel](https://caravel-user-project.readthedocs.io/en/latest/_static/layout.png)\n",
        "\n",
        "- integrate your generated verilog with the [Caravel User Project](https://caravel-user-project.readthedocs.io/en/)\n",
        "- wait for the next [OpenMPW shuttle](https://developers.google.com/silicon) announcement."
      ],
      "metadata": {
        "id": "KL01tTzh-O3u"
      }
    }
  ]
}